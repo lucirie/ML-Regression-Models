{
 "cells": [
  {
   "cell_type": "markdown",
   "id": "d49e7832",
   "metadata": {},
   "source": [
    "# Introduction \n",
    "---\n",
    "## Brief:\n",
    "This is my first algorithm!!  \n",
    "After taking **The Machine Learning specialization - Andrew NG**, I wanted some more low level applied experience.  \n",
    "So this is: **Univariate linear regression!!** Where ill be implementing:  \n",
    "\n",
    "- [Data Preperation](#data-preperation)\n",
    "- [Cost Function](#cost-function)\n",
    "- [Gradient Descent](#gradient-descent)"
   ]
  },
  {
   "cell_type": "code",
   "execution_count": null,
   "id": "2cb085c4",
   "metadata": {},
   "outputs": [],
   "source": [
    "import numpy as np\n",
    "import pandas as pd\n",
    "import matplotlib.pyplot as plt"
   ]
  },
  {
   "cell_type": "markdown",
   "id": "2a21e72e",
   "metadata": {},
   "source": [
    "## Data Preperation"
   ]
  },
  {
   "cell_type": "code",
   "execution_count": null,
   "id": "11f96d54",
   "metadata": {},
   "outputs": [],
   "source": [
    "train = pd.read_csv(\"train.csv\", sep=',')\n",
    "x, y = train['x'], train['y']"
   ]
  },
  {
   "cell_type": "code",
   "execution_count": null,
   "id": "c0f585ab",
   "metadata": {},
   "outputs": [],
   "source": [
    "plt.plot(x, y, 'x', c='r')\n",
    "plt.xlabel('X random')\n",
    "plt.ylabel('Y random')\n",
    "plt.title('Random Dataset')\n",
    "plt.show()"
   ]
  },
  {
   "cell_type": "markdown",
   "id": "636e43be",
   "metadata": {},
   "source": [
    "## Cost Function"
   ]
  }
 ],
 "metadata": {
  "kernelspec": {
   "display_name": "Python 3",
   "language": "python",
   "name": "python3"
  },
  "language_info": {
   "codemirror_mode": {
    "name": "ipython",
    "version": 3
   },
   "file_extension": ".py",
   "mimetype": "text/x-python",
   "name": "python",
   "nbconvert_exporter": "python",
   "pygments_lexer": "ipython3",
   "version": "3.12.2"
  }
 },
 "nbformat": 4,
 "nbformat_minor": 5
}
