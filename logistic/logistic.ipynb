{
 "cells": [
  {
   "cell_type": "markdown",
   "id": "77f850bc",
   "metadata": {},
   "source": [
    "# Logistic Regression\n",
    "\n",
    "---\n",
    "\n",
    "## Brief:\n",
    "In this notebook I will be implementing a logistic regression model using just numpy, that classifies a cancer patient's tumor as malignant or benign using multiple variable (Multivariate Logistic Regression).  \n",
    "#### Goals:\n",
    "- [Extracting Data](#data-extraction)\n",
    "- [Defining Logistic Model](#logistic-model)\n",
    "- [Normalizing Data](#data-normalization)\n",
    "- [Cost Function](#cost-function)\n",
    "- [Gradient Descent](#gradient-descent)"
   ]
  },
  {
   "cell_type": "code",
   "execution_count": 1,
   "id": "c5246bf3",
   "metadata": {},
   "outputs": [],
   "source": [
    "import pandas as pd\n",
    "import matplotlib.pyplot\n",
    "import numpy as np"
   ]
  },
  {
   "cell_type": "markdown",
   "id": "96154871",
   "metadata": {},
   "source": [
    "## Data Extraction\n",
    "The dataset i'll be using is a very interesting one called **\"Diagnostic Wisconsin Breast Cancer Database.\"**  \n",
    "Which contains: <center>*\"Features that are computed from a digitized image of a fine needle aspirate (FNA) of a breast mass.\"*</center><center>*\"They describe characteristics of the cell nuclei present in the image.\"*</center>\n",
    "\n",
    "In breif, it's a datset that contains 33 features with the target value classifying a patient's tumor as \"Malignent\" or \"Benign\".  \n",
    "Since the target array ${y}$ currently contains \"M\" for malignent and \"B\" for benign, we'll turn the array into boolean form with M = 1 and B = 0.  \n",
    "\n",
    "Citation:\n",
    "> 📊 **Dataset Reference**  \n",
    "> Wolberg, W., Mangasarian, O., Street, N., & Street, W. (1993). *Breast Cancer Wisconsin (Diagnostic)* [Dataset]. UCI Machine Learning Repository. https://doi.org/10.24432/C5DW2B"
   ]
  }
 ],
 "metadata": {
  "kernelspec": {
   "display_name": "Python 3",
   "language": "python",
   "name": "python3"
  },
  "language_info": {
   "codemirror_mode": {
    "name": "ipython",
    "version": 3
   },
   "file_extension": ".py",
   "mimetype": "text/x-python",
   "name": "python",
   "nbconvert_exporter": "python",
   "pygments_lexer": "ipython3",
   "version": "3.12.2"
  }
 },
 "nbformat": 4,
 "nbformat_minor": 5
}
