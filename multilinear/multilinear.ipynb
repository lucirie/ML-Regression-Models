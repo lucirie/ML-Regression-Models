{
 "cells": [
  {
   "cell_type": "markdown",
   "id": "d0c89d24",
   "metadata": {},
   "source": [
    "# Multilinear Regression\n",
    "---\n",
    "## Brief:  \n",
    "After taking the **Machine Learning Specialization** by **Andrew NG**, this is an implementation for Multilinear Regression on a dataset that measures student performance in relation to _multiple features_  \n",
    "Where i'll be implementing:\n",
    "\n",
    "- [Data Preparation](#data-preparation)\n",
    "- [Normalization of Data](#normalization)\n",
    "- [Cost Function](#cost-function)\n",
    "- [Gradient Descent](gradient-descent)\n"
   ]
  },
  {
   "cell_type": "code",
   "execution_count": 40,
   "id": "b06e617c",
   "metadata": {},
   "outputs": [],
   "source": [
    "import numpy as np\n",
    "import matplotlib.pyplot as plt\n",
    "import pandas as pd"
   ]
  },
  {
   "cell_type": "markdown",
   "id": "97f1e0d2",
   "metadata": {},
   "source": [
    "## Data Preparation\n",
    "\n",
    "- Use pandas to import data into variables\n",
    "- Seperate data into training and testing set"
   ]
  },
  {
   "cell_type": "code",
   "execution_count": 41,
   "id": "4ef40854",
   "metadata": {},
   "outputs": [],
   "source": [
    "x = pd.read_csv('Student_Performance.csv', usecols=[0, 1, 2, 3, 4], sep=',')\n",
    "y = pd.read_csv('Student_Performance.csv', usecols=[5], sep=',')\n",
    "x[\"Extracurricular Activities\"] = x['Extracurricular Activities'].map({'Yes': 1, 'No': 0})\n",
    "\n",
    "x_train_raw, y_train, x_test_raw, y_test = x[7000:].values, y[7000:].values, x[:3000].values, y[:3000].values"
   ]
  },
  {
   "cell_type": "markdown",
   "id": "144243d7",
   "metadata": {},
   "source": [
    "## Normalization\n",
    "\n",
    "- Normalizing data using **z-score normalization**\n",
    "\n",
    "The Z-score is calculated using the formula:\n",
    "\n",
    "$$\n",
    "z = \\frac{x - \\mu}{\\sigma}\n",
    "$$\n",
    "\n",
    "Where:  \n",
    "- $x$ is the original data point\n",
    "- $\\mu$ is the mean\n",
    "- $\\sigma$ is the deviation"
   ]
  },
  {
   "cell_type": "code",
   "execution_count": 42,
   "id": "2fdab98a",
   "metadata": {},
   "outputs": [],
   "source": [
    "def z_score(x):\n",
    "    mu = np.mean(x, axis=0)\n",
    "    sigma = np.std(x, axis=0)\n",
    "    return (x - mu) / sigma"
   ]
  },
  {
   "cell_type": "markdown",
   "id": "fad4c3b8",
   "metadata": {},
   "source": [
    "## Cost Function\n",
    "Here ill be implementing a simple MSE (Mean Squared Error) cost function using the following formula:  \n",
    "\n",
    "\n",
    "$$\n",
    "\\text{MSE} = \\frac{1}{2m} \\sum_{i=1}^{m} \\left( y_i - \\hat{y}_i \\right)^2\n",
    "$$\n",
    "\n",
    "Where:\n",
    "- $m$ is the number of data points  \n",
    "- $y_i$ is the true value  \n",
    "- $\\hat{y}_i$ is the predicted value"
   ]
  },
  {
   "cell_type": "code",
   "execution_count": 46,
   "id": "5f4ec6f6",
   "metadata": {},
   "outputs": [],
   "source": [
    "def cost(w, b, x, y):\n",
    "    m = len(x)\n",
    "    f_wb = w @ x + b\n",
    "    err = y - f_wb\n",
    "    return (err ** 2).mean() / 2"
   ]
  },
  {
   "cell_type": "markdown",
   "id": "e90a8437",
   "metadata": {},
   "source": [
    "## Gradient Descent"
   ]
  },
  {
   "cell_type": "code",
   "execution_count": 44,
   "id": "19a4999e",
   "metadata": {},
   "outputs": [],
   "source": [
    "def gradient_descent(w, b, x, y, itterations, alphar):\n",
    "    # Repeat until convergence\n",
    "    for i in range(itterations):\n",
    "        dj_dw = 0.\n",
    "        dj_db = 0.\n",
    "        m = len(x)\n",
    "        for i in range(m):\n",
    "            f_wb = np.dot(w, x[i]) + b\n",
    "            err = y[i] - f_wb\n",
    "            dj_dw += err * x[i]\n",
    "            dj_db += err\n",
    "        dj_dw /= m\n",
    "        dj_db /= m\n",
    "        w = w - alphar * dj_dw\n",
    "        b = b - alphar * dj_db\n",
    "    return w, b"
   ]
  }
 ],
 "metadata": {
  "kernelspec": {
   "display_name": "Python 3",
   "language": "python",
   "name": "python3"
  },
  "language_info": {
   "codemirror_mode": {
    "name": "ipython",
    "version": 3
   },
   "file_extension": ".py",
   "mimetype": "text/x-python",
   "name": "python",
   "nbconvert_exporter": "python",
   "pygments_lexer": "ipython3",
   "version": "3.12.2"
  }
 },
 "nbformat": 4,
 "nbformat_minor": 5
}
