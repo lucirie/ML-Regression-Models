{
 "cells": [
  {
   "cell_type": "markdown",
   "id": "d0c89d24",
   "metadata": {},
   "source": [
    "# Multilinear Regression\n",
    "---\n",
    "## Brief:  \n",
    "After taking the **Machine Learning Specialization** by **Andrew NG**, this is an implementation for Multilinear Regression on a dataset that measures student performance in relation to _multiple features_  \n",
    "Where i'll be implementing:\n",
    "\n",
    "- [Data Preparation](#data-preparation)\n",
    "- [Normalization of Data](#normalization)\n",
    "- [Cost Function](#cost-function)\n",
    "- [Gradient Descent](gradient-descent)\n"
   ]
  },
  {
   "cell_type": "code",
   "execution_count": 1,
   "id": "b06e617c",
   "metadata": {},
   "outputs": [],
   "source": [
    "import numpy as np\n",
    "import matplotlib.pyplot as plt\n",
    "import pandas as pd"
   ]
  },
  {
   "cell_type": "markdown",
   "id": "97f1e0d2",
   "metadata": {},
   "source": [
    "## Data Preparation\n",
    "\n",
    "- Use pandas to import data into variables\n",
    "- Seperate data into training and testing set"
   ]
  },
  {
   "cell_type": "code",
   "execution_count": 7,
   "id": "4ef40854",
   "metadata": {},
   "outputs": [],
   "source": [
    "x = pd.read_csv('Student_Performance.csv', usecols=[0, 1, 2, 3, 4], sep=',')\n",
    "y = pd.read_csv('Student_Performance.csv', usecols=[5], sep=',')\n",
    "\n",
    "x_train, y_train, x_test, y_test = x[7000:], y[7000:], x[:3000], y[:3000]"
   ]
  }
 ],
 "metadata": {
  "kernelspec": {
   "display_name": "Python 3",
   "language": "python",
   "name": "python3"
  },
  "language_info": {
   "codemirror_mode": {
    "name": "ipython",
    "version": 3
   },
   "file_extension": ".py",
   "mimetype": "text/x-python",
   "name": "python",
   "nbconvert_exporter": "python",
   "pygments_lexer": "ipython3",
   "version": "3.12.2"
  }
 },
 "nbformat": 4,
 "nbformat_minor": 5
}
