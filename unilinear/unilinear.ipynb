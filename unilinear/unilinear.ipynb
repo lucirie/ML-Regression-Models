{
 "cells": [
  {
   "cell_type": "markdown",
   "id": "d49e7832",
   "metadata": {},
   "source": [
    "# Introduction \n",
    "---\n",
    "## Brief:\n",
    "This is my first algorithm!!  \n",
    "After taking **The Machine Learning specialization - Andrew NG**, I wanted some more low level applied experience.  \n",
    "So this is: **Univariate linear regression!!** Where ill be implementing:  \n",
    "\n",
    "- [Data Preperation](#data-preperation)\n",
    "- [Cost Function](#cost-function)\n",
    "- [Gradient Descent](#gradient-descent)"
   ]
  },
  {
   "cell_type": "code",
   "execution_count": null,
   "id": "2cb085c4",
   "metadata": {},
   "outputs": [],
   "source": [
    "import numpy as np\n",
    "import pandas as pd\n",
    "import matplotlib.pyplot as plt"
   ]
  },
  {
   "cell_type": "markdown",
   "id": "2a21e72e",
   "metadata": {},
   "source": [
    "## Data Preperation\n",
    "\n",
    "Here I imported the data from the training set **(train.csv)** into two variables x and y"
   ]
  },
  {
   "cell_type": "code",
   "execution_count": null,
   "id": "11f96d54",
   "metadata": {},
   "outputs": [],
   "source": [
    "train = pd.read_csv(\"train.csv\", sep=',')\n",
    "x, y = train['x'], train['y']"
   ]
  },
  {
   "cell_type": "code",
   "execution_count": null,
   "id": "c0f585ab",
   "metadata": {},
   "outputs": [],
   "source": [
    "plt.plot(x, y, 'x', c='r')\n",
    "plt.xlabel('X random')\n",
    "plt.ylabel('Y random')\n",
    "plt.title('Random Dataset')\n",
    "plt.show()"
   ]
  },
  {
   "cell_type": "markdown",
   "id": "636e43be",
   "metadata": {},
   "source": [
    "## Cost Function\n",
    "\n",
    "Here i'll be using a squared error cost where i'll itterate over the training examples and calculating the error:  \n",
    "$$\n",
    "\\sum_{i=0}^m (\\hat{y}^{(i)} - y^{(i)})^2\n",
    "$$\n",
    "\n",
    "Where:\n",
    "- (m) number of training examples\n",
    "- ($\\hat{y}$) f_wb of $x^{(i)}$"
   ]
  },
  {
   "cell_type": "code",
   "execution_count": null,
   "id": "ed4f3038",
   "metadata": {},
   "outputs": [],
   "source": [
    "# Squared sum of errors\n",
    "\n",
    "w = 1\n",
    "b = 1 # initialize parameters randomly\n",
    "m = len(x.shape) # Training examples\n",
    "def cost(w, b, x, y):\n",
    "    j_wb = 0.\n",
    "    for i in range(m):\n",
    "        f_wb = w * x[i] + b\n",
    "        j_wb += (y[i] - f_wb)**2\n",
    "    return j_wb / m"
   ]
  },
  {
   "cell_type": "markdown",
   "id": "366ee9c5",
   "metadata": {},
   "source": [
    "## Gradient Descent"
   ]
  },
  {
   "cell_type": "code",
   "execution_count": null,
   "id": "29279e10",
   "metadata": {},
   "outputs": [],
   "source": [
    "def gradient(w, b, x, y, alpha_):\n",
    "    # Initialize derivative parameters and learning rate alpha\n",
    "    alpha_ = 0.1\n",
    "    dj_dw = 0\n",
    "    dj_db = 0\n",
    "\n",
    "    # Gradient descent\n",
    "    for i in range(m):\n",
    "        dj_dw = cost(w, b, x, y) * x[i]\n",
    "        dj_db = cost(w, b, x, y)\n",
    "    dj_dw = dj_dw * 2 / m\n",
    "    dj_db = dj_db * 2 / m\n",
    "    return dj_dw, dj_db"
   ]
  },
  {
   "cell_type": "code",
   "execution_count": null,
   "id": "62377985",
   "metadata": {},
   "outputs": [],
   "source": [
    "# Update parameters\n",
    "itterations = 100\n",
    "w_arr = []\n",
    "b_arr = []\n",
    "cost_arr = []\n",
    "for i in range(itterations):\n",
    "    dj_dw, dj_db = gradient(w, b, x, y, 0.01)\n",
    "    w = w - dj_dw\n",
    "    b = b - dj_db\n",
    "\n",
    "    # Visualize the cost for values of the parameter w\n",
    "    w_arr.append(w)\n",
    "    b_arr.append(b)\n",
    "    cost_arr.append(cost(w, b, x, y))\n",
    "plt.plot(w_arr, cost_arr)\n",
    "plt.xlabel(\"Value of W\")\n",
    "plt.ylabel(\"Cost\")\n",
    "plt.title(\"Gradient Descent\")\n",
    "plt.show()"
   ]
  }
 ],
 "metadata": {
  "kernelspec": {
   "display_name": "Python 3",
   "language": "python",
   "name": "python3"
  },
  "language_info": {
   "codemirror_mode": {
    "name": "ipython",
    "version": 3
   },
   "file_extension": ".py",
   "mimetype": "text/x-python",
   "name": "python",
   "nbconvert_exporter": "python",
   "pygments_lexer": "ipython3",
   "version": "3.12.2"
  }
 },
 "nbformat": 4,
 "nbformat_minor": 5
}
