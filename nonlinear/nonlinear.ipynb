{
 "cells": [
  {
   "cell_type": "markdown",
   "id": "b97cfa12",
   "metadata": {},
   "source": [
    "# Polynomial Regression\n",
    "\n",
    "---\n",
    "\n",
    "## Breif:\n",
    "Polynomial Regression allows you to fit a model to **non-linear** data, using higher degree polynomials like squares and cubes to do so.\n",
    "- [Extracting non-linear Data](#extracting-data)\n",
    "- [Getting polunomial features](#getting-polynomial-features)\n",
    "- [Cost function](#cost-function)\n",
    "- [Gradient Descent](#gradient-descent)\n"
   ]
  },
  {
   "cell_type": "code",
   "execution_count": 1,
   "id": "b4b184d5",
   "metadata": {},
   "outputs": [],
   "source": [
    "import pandas as pd\n",
    "import numpy as np\n",
    "import matplotlib.pyplot as plt"
   ]
  },
  {
   "cell_type": "markdown",
   "id": "b70969c8",
   "metadata": {},
   "source": [
    "## Extracting Data\n",
    "\n",
    "- Simply extract the data with **pandas** and convert it into numpy ndarrays.  \n",
    "- This data set is called **\"Ice Cream Selling Data\"** which shows the *number of units sold* per *temperature* of ice-cream.  \n",
    "- Its a very simple **univariate dataset** and only has 49 training examples (This notebook is just a practice for using polynomials. For more in-depth regression, check out multivariate regression in the other folder)  "
   ]
  },
  {
   "cell_type": "code",
   "execution_count": 2,
   "id": "e6d95202",
   "metadata": {},
   "outputs": [
    {
     "data": {
      "image/png": "[encoded data removed]",
      "text/plain": [
       "<Figure size 640x480 with 1 Axes>"
      ]
     },
     "metadata": {},
     "output_type": "display_data"
    }
   ],
   "source": [
    "x_raw = pd.read_csv(\"icecream.csv\", usecols=[0]).values\n",
    "y = pd.read_csv(\"icecream.csv\", usecols=[1]).values\n",
    "\n",
    "# Visualize the data\n",
    "plt.plot(x_raw, y, 'x', c='r')\n",
    "plt.xlabel(\"Temperature (°C)\")\n",
    "plt.ylabel(\"Units Sold\")\n",
    "plt.title(\"Non-Linear Dataset\")\n",
    "\n",
    "plt.show()"
   ]
  },
  {
   "cell_type": "markdown",
   "id": "a4594776",
   "metadata": {},
   "source": [
    "## Getting Polynomial Features\n",
    "\n",
    "A **Polynomial Regression Model** is defined as:  \n",
    "$$\n",
    "f(x) = w_0 + w_1 x + w_2 x^2 + w_3 x^3 + \\dots + w_d x^d\n",
    "$$\n",
    "\n",
    "Or, using summation notation:\n",
    "$$\n",
    "f(x) = \\sum_{i=0}^{d} w_i x^i\n",
    "$$\n",
    "\n",
    "However, a very simple implementation can be done using ``np.vstack`` AKA: \"Numpy Vertical Stack\"  \n",
    "Where it inputs multiple numpy ndarrays, and outputs them vertically stacked in a matrix\n",
    "\n",
    "In our case:\n",
    "- ``[x ** i for i in range(degree + 1)]`` Uses an inline loop to create multiple polynomial ${x}$ features before stacking them ontop of eachother vertically\n",
    "- ``.T`` Means \"Transpose\" and it flips the rows and collumns giving us the training samples we need.\n"
   ]
  },
  {
   "cell_type": "code",
   "execution_count": 31,
   "id": "14641479",
   "metadata": {},
   "outputs": [],
   "source": [
    "def get_polynomial_features(x, degree):\n",
    "    return np.hstack([x**i for i in range(degree + 1)])"
   ]
  },
  {
   "cell_type": "markdown",
   "id": "87dbc216",
   "metadata": {},
   "source": [
    "## Cost function\n",
    "\n",
    "The cost function for polynomial regression will be the MSE (Mean Squared Error) cost using L2 regularization (also known as ridge regression) to prevent the ${w}$ parameter from getting unnessecarily big\n",
    "\n",
    "$$\n",
    "J(w, b) = \\frac{1}{2m} \\sum_{i=1}^{m} \\left( f_{w,b}(x^{(i)}) - y^{(i)} \\right)^2 + \\frac{\\lambda}{2m} \\sum_{j=1}^{n} w_j^2\n",
    "$$\n",
    "\n",
    "Where:\n",
    "- $f_{w,b}(x^{(i)}$ is the model output given input ${x}$ \n",
    "- $\\frac{\\lambda}{2m} \\sum_{j=1}^{n} w_j^2$ is the penalty / regularization term\n",
    "- ${m}$ and ${n}$ are the number of training examples\n",
    "\n",
    "Notes:  \n",
    "The larger the regularization term $\\lambda$ is, the bigger the \"penalty\" on the ${w}$ parameter is. Meaning that, this will encourage the model to keep the parameter size small as the larger it is, the more it adds to the cost."
   ]
  },
  {
   "cell_type": "code",
   "execution_count": 39,
   "id": "9c5bcadc",
   "metadata": {},
   "outputs": [],
   "source": [
    "def cost(w, b, x, y):\n",
    "    cost = np.mean(((x @ w + b) - y)**2) / 2\n",
    "    lambda_ = 0.01 # Can be changed\n",
    "    penalty = np.mean(w) * lambda_ / 2\n",
    "    return cost + penalty"
   ]
  },
  {
   "cell_type": "markdown",
   "id": "90a11eb9",
   "metadata": {},
   "source": [
    "## Gradient Descent\n",
    "\n",
    "- Gradient descent is calulated using this (very fancy and confusing looking mathematical formula):  \n",
    "\n",
    "\n",
    "$$\n",
    "w_j := w_j - \\alpha \\frac{\\partial j(w,b)}{\\partial w_j} + \\frac{\\lambda}{2m} \\sum_{j=1}^{n} w_j^2\n",
    "$$\n",
    "\n",
    "$$\n",
    "b := b - \\alpha \\frac{\\partial j(w,b)}{\\partial b}\n",
    "$$\n",
    "\n",
    "- But really, in code terms, those confusing derivates are just as simple as this:  \n",
    "$$\n",
    "\\frac{\\partial j(w,b)}{\\partial w_j} = \\frac{1}{m} \\sum_{i=1}^{m} \\left( \\hat{y}^{(i)} - y^{(i)} \\right) x_j^{(i)}  + \\frac{\\lambda}{2m} \\sum_{j=1}^{n} w_j^2\n",
    "$$\n",
    "\n",
    "$$\n",
    "\\frac{\\partial j(w,b)}{\\partial b} = \\frac{1}{m} \\sum_{i=1}^{m} \\left( \\hat{y}^{(i)} - y^{(i)} \\right)\n",
    "$$\n",
    "\n",
    "\n",
    "See? its just the cost function with the L2 regularization (penalty term) we added before. But for the ${x}$ parameter we simply multiply the cost by ${x^i}$ And for ${b}$, its just the cost.  \n",
    "That is how we *update the model's parameters* and successfully *train the model* to fit the data.\n",
    "\n",
    "Notes:\n",
    "- ${j(w,b)}$ is the cost function\n",
    "- ${m}$ is the number of training examples\n",
    "- ${\\hat{y}}$ is the model's prediction f_wb of y\n",
    "- ${y}$ is the target value y"
   ]
  },
  {
   "cell_type": "code",
   "execution_count": null,
   "id": "52995e26",
   "metadata": {},
   "outputs": [],
   "source": [
    "def gradient_descent(w, b, x, y, alphar, itterations, cost_arr):\n",
    "    for i in range(itterations):\n",
    "        f_wb = w @ x + b\n",
    "        lambda_ = 0.01\n",
    "        w -= alphar * (np.mean(f_wb - y * x) + np.mean(w**2) * lambda_ / 2)\n",
    "        b -= alphar * np.mean(f_wb - y)\n",
    "\n",
    "        ## for visualization purposes ##\n",
    "        cost_arr.append(cost(w, b, x, y))\n",
    "        ## for visualization purposes ##"
   ]
  }
 ],
 "metadata": {
  "kernelspec": {
   "display_name": "Python 3",
   "language": "python",
   "name": "python3"
  },
  "language_info": {
   "codemirror_mode": {
    "name": "ipython",
    "version": 3
   },
   "file_extension": ".py",
   "mimetype": "text/x-python",
   "name": "python",
   "nbconvert_exporter": "python",
   "pygments_lexer": "ipython3",
   "version": "3.12.2"
  }
 },
 "nbformat": 4,
 "nbformat_minor": 5
}
